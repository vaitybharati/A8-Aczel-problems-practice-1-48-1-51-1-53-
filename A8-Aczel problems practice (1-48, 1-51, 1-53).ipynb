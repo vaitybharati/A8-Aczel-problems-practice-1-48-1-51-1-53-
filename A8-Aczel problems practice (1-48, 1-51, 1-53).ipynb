{
 "cells": [
  {
   "cell_type": "markdown",
   "metadata": {},
   "source": [
    "# A8-Aczel problems practice (1-48, 1-51, 1-53)"
   ]
  },
  {
   "cell_type": "markdown",
   "metadata": {},
   "source": [
    "#### 48. Draw a box plot for the data. Are there any outliers? Is the distribution of the data symmetric or skewed? If it is skewed, to what side?\n",
    "7.0, 6.9, 8.2, 7.8, 7.7, 7.3, 6.8, 6.7, 8.2, 8.4, 7.0, 6.7, 7.5, 7.2, 7.9, 7.6, 6.7, 6.6, 6.3, 5.6, 7.8, 5.5,\n",
    "6.2, 5.8, 5.8, 6.1, 6.0, 7.3, 7.3, 7.5, 7.2, 7.2, 7.4, 7.6"
   ]
  },
  {
   "cell_type": "code",
   "execution_count": 4,
   "metadata": {},
   "outputs": [],
   "source": [
    "import numpy as np\n",
    "import pandas as pd\n",
    "import matplotlib.pyplot as plt\n",
    "import seaborn as sns\n",
    "%matplotlib inline"
   ]
  },
  {
   "cell_type": "code",
   "execution_count": 5,
   "metadata": {},
   "outputs": [],
   "source": [
    "data1=[7.0, 6.9, 8.2, 7.8, 7.7, 7.3, 6.8, 6.7, 8.2, 8.4, 7.0, 6.7, 7.5, 7.2, 7.9, 7.6, 6.7, 6.6, 6.3, 5.6, 7.8, 5.5, \n",
    "                6.2, 5.8, 5.8, 6.1, 6.0, 7.3, 7.3, 7.5, 7.2, 7.2, 7.4, 7.6]"
   ]
  },
  {
   "cell_type": "code",
   "execution_count": 6,
   "metadata": {},
   "outputs": [
    {
     "data": {
      "text/plain": [
       "{'whiskers': [<matplotlib.lines.Line2D at 0x21e4cb44070>,\n",
       "  <matplotlib.lines.Line2D at 0x21e4cb443d0>],\n",
       " 'caps': [<matplotlib.lines.Line2D at 0x21e4cb44730>,\n",
       "  <matplotlib.lines.Line2D at 0x21e4cb44a90>],\n",
       " 'boxes': [<matplotlib.lines.Line2D at 0x21e4cb2bcd0>],\n",
       " 'medians': [<matplotlib.lines.Line2D at 0x21e4cb44df0>],\n",
       " 'fliers': [<matplotlib.lines.Line2D at 0x21e4cb4e130>],\n",
       " 'means': []}"
      ]
     },
     "execution_count": 6,
     "metadata": {},
     "output_type": "execute_result"
    },
    {
     "data": {
      "image/png": "[encoded data removed]",
      "text/plain": [
       "<Figure size 432x288 with 1 Axes>"
      ]
     },
     "metadata": {
      "needs_background": "light"
     },
     "output_type": "display_data"
    }
   ],
   "source": [
    "plt.boxplot(data1,vert=False)"
   ]
  },
  {
   "cell_type": "raw",
   "metadata": {},
   "source": [
    "Conclusions\n",
    "1) There are no outliars\n",
    "2) Distribution is not symmetric and yes it is skewed\n",
    "3) It is skewed to left side"
   ]
  },
  {
   "cell_type": "markdown",
   "metadata": {},
   "source": [
    "#### 51. Draw a box plot of the data, and draw conclusions about the data set based on the box plot.\n",
    "\n",
    "5, 32, 33, 35, 42, 43, 42, 45, 46, 44, 47, 48, 48, 48, 49, 49, 50, 37, 38, 34, 51, 52, 52, 47, 53,\n",
    "55, 56, 57, 58, 63, 78"
   ]
  },
  {
   "cell_type": "code",
   "execution_count": 7,
   "metadata": {},
   "outputs": [],
   "source": [
    "data2=[5, 32, 33, 35, 42, 43, 42, 45, 46, 44, 47, 48, 48, 48, 49, 49, 50, 37, 38, 34, 51, 52, 52, 47, 53, 55, 56, 57, \n",
    "                58, 63, 78]"
   ]
  },
  {
   "cell_type": "code",
   "execution_count": 8,
   "metadata": {},
   "outputs": [
    {
     "data": {
      "text/plain": [
       "{'whiskers': [<matplotlib.lines.Line2D at 0x21e4cbe3070>,\n",
       "  <matplotlib.lines.Line2D at 0x21e4cbe33d0>],\n",
       " 'caps': [<matplotlib.lines.Line2D at 0x21e4cbe3730>,\n",
       "  <matplotlib.lines.Line2D at 0x21e4cbe3a90>],\n",
       " 'boxes': [<matplotlib.lines.Line2D at 0x21e4cbd5cd0>],\n",
       " 'medians': [<matplotlib.lines.Line2D at 0x21e4cbe3df0>],\n",
       " 'fliers': [<matplotlib.lines.Line2D at 0x21e4cbef130>],\n",
       " 'means': []}"
      ]
     },
     "execution_count": 8,
     "metadata": {},
     "output_type": "execute_result"
    },
    {
     "data": {
      "image/png": "[encoded data removed]",
      "text/plain": [
       "<Figure size 432x288 with 1 Axes>"
      ]
     },
     "metadata": {
      "needs_background": "light"
     },
     "output_type": "display_data"
    }
   ],
   "source": [
    "plt.boxplot(data2,vert=False)"
   ]
  },
  {
   "cell_type": "raw",
   "metadata": {},
   "source": [
    "Conclusions\n",
    "1. There are 2 outliars in the data (5 & 78)\n",
    "2. Distribution is asymmetric\n",
    "3. Distibution is left skewed"
   ]
  },
  {
   "cell_type": "markdown",
   "metadata": {},
   "source": [
    "#### 53. Refer to the following data on distances between seats in business class for various airlines. Find mean, variance and Standard devation, draw a box plot, and find the mode and any outliers."
   ]
  },
  {
   "cell_type": "raw",
   "metadata": {},
   "source": [
    "Characteristics of Business-Class Carriers\n",
    "\n",
    "                    Distance between\n",
    "                    Rows (in cm)\n",
    "Europe\n",
    "    Air France      122\n",
    "    Alitalia        140\n",
    "    British Airways 127\n",
    "    Iberia          107\n",
    "    KLM/Northwest   120\n",
    "    Lufthansa       101\n",
    "    Sabena          122\n",
    "    SAS             132\n",
    "    SwissAir        120\n",
    "Asia\n",
    "    All Nippon Airw 127\n",
    "    Cathay Pacific  127\n",
    "    JAL             127\n",
    "    Korean Air      127\n",
    "    Malaysia Air    116\n",
    "    Singapore Airl  120\n",
    "    Thai Airways    128\n",
    "    Vietnam Airl    140\n",
    "North America\n",
    "    Air Canada      140\n",
    "    American Airl   127\n",
    "    Continental     140\n",
    "    Delta Airlines  130\n",
    "    TWA             157\n",
    "    United          124"
   ]
  },
  {
   "cell_type": "code",
   "execution_count": 10,
   "metadata": {},
   "outputs": [],
   "source": [
    "airlines=['Air France','Alitalia','British Airways ','Iberia','KLM/Northwest','Lufthansa','Sabena','SAS','SwissAir',\n",
    "                   'All Nippon Airw','Cathay Pacific','JAL','Korean Air','Malaysia Air','Singapore Airl','Thai Airways',\n",
    "                   'Vietnam Airl','Air Canada','American Airl','Continental','Delta Airlines','TWA','United']"
   ]
  },
  {
   "cell_type": "code",
   "execution_count": 11,
   "metadata": {},
   "outputs": [],
   "source": [
    "dist=pd.Series([122,140,127,107,120,101,122,132,120,127,127,127,127,116,120,128,140,140,127,140,130,157,124])"
   ]
  },
  {
   "cell_type": "code",
   "execution_count": 12,
   "metadata": {},
   "outputs": [
    {
     "data": {
      "text/plain": [
       "127.0"
      ]
     },
     "execution_count": 12,
     "metadata": {},
     "output_type": "execute_result"
    }
   ],
   "source": [
    "# Mean\n",
    "dist.mean()"
   ]
  },
  {
   "cell_type": "code",
   "execution_count": 13,
   "metadata": {},
   "outputs": [
    {
     "data": {
      "text/plain": [
       "137.0"
      ]
     },
     "execution_count": 13,
     "metadata": {},
     "output_type": "execute_result"
    }
   ],
   "source": [
    "# Variance\n",
    "dist.var()"
   ]
  },
  {
   "cell_type": "code",
   "execution_count": 14,
   "metadata": {},
   "outputs": [
    {
     "data": {
      "text/plain": [
       "11.704699910719626"
      ]
     },
     "execution_count": 14,
     "metadata": {},
     "output_type": "execute_result"
    }
   ],
   "source": [
    "# Standard deviaiton\n",
    "dist.std()"
   ]
  },
  {
   "cell_type": "code",
   "execution_count": 15,
   "metadata": {},
   "outputs": [
    {
     "data": {
      "text/plain": [
       "0    127\n",
       "dtype: int64"
      ]
     },
     "execution_count": 15,
     "metadata": {},
     "output_type": "execute_result"
    }
   ],
   "source": [
    "# Mode\n",
    "dist.mode()"
   ]
  },
  {
   "cell_type": "code",
   "execution_count": 20,
   "metadata": {},
   "outputs": [
    {
     "data": {
      "text/plain": [
       "{'whiskers': [<matplotlib.lines.Line2D at 0x21e4cefc6d0>,\n",
       "  <matplotlib.lines.Line2D at 0x21e4cefca30>],\n",
       " 'caps': [<matplotlib.lines.Line2D at 0x21e4cefcd90>,\n",
       "  <matplotlib.lines.Line2D at 0x21e4cf06130>],\n",
       " 'boxes': [<matplotlib.lines.Line2D at 0x21e4cefc370>],\n",
       " 'medians': [<matplotlib.lines.Line2D at 0x21e4cf06490>],\n",
       " 'fliers': [<matplotlib.lines.Line2D at 0x21e4cf06790>],\n",
       " 'means': []}"
      ]
     },
     "execution_count": 20,
     "metadata": {},
     "output_type": "execute_result"
    },
    {
     "data": {
      "image/png": "[encoded data removed]",
      "text/plain": [
       "<Figure size 432x288 with 1 Axes>"
      ]
     },
     "metadata": {
      "needs_background": "light"
     },
     "output_type": "display_data"
    }
   ],
   "source": [
    "# Box plot\n",
    "plt.boxplot(dist,vert=False)"
   ]
  },
  {
   "cell_type": "code",
   "execution_count": 17,
   "metadata": {
    "scrolled": true
   },
   "outputs": [
    {
     "data": {
      "text/plain": [
       "count     23.0000\n",
       "mean     127.0000\n",
       "std       11.7047\n",
       "min      101.0000\n",
       "25%      121.0000\n",
       "50%      127.0000\n",
       "75%      131.0000\n",
       "max      157.0000\n",
       "dtype: float64"
      ]
     },
     "execution_count": 17,
     "metadata": {},
     "output_type": "execute_result"
    }
   ],
   "source": [
    "dist.describe()"
   ]
  },
  {
   "cell_type": "code",
   "execution_count": 18,
   "metadata": {},
   "outputs": [
    {
     "data": {
      "text/plain": [
       "127.0"
      ]
     },
     "execution_count": 18,
     "metadata": {},
     "output_type": "execute_result"
    }
   ],
   "source": [
    "dist.median()"
   ]
  },
  {
   "cell_type": "raw",
   "metadata": {},
   "source": [
    "Conclusion\n",
    "1. Data is concentrated around median\n",
    "2. There are two outliars (101 and 157)\n",
    "3. Distribution is Left skewed"
   ]
  },
  {
   "cell_type": "code",
   "execution_count": null,
   "metadata": {},
   "outputs": [],
   "source": []
  }
 ],
 "metadata": {
  "kernelspec": {
   "display_name": "Python 3",
   "language": "python",
   "name": "python3"
  },
  "language_info": {
   "codemirror_mode": {
    "name": "ipython",
    "version": 3
   },
   "file_extension": ".py",
   "mimetype": "text/x-python",
   "name": "python",
   "nbconvert_exporter": "python",
   "pygments_lexer": "ipython3",
   "version": "3.8.3"
  }
 },
 "nbformat": 4,
 "nbformat_minor": 4
}
